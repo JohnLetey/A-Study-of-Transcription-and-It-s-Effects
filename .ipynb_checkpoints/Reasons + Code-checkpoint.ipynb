{
 "cells": [
  {
   "cell_type": "markdown",
   "metadata": {},
   "source": [
    "# A Study of Transcription and Its Affects\n",
    "---\n",
    "**Note:** To get to my GitHub repository, go to this [link](https://github.com/JohnLetey/A-Study-of-Transcription-and-Its-Affects).\n",
    "\n",
    "I have broken this project into to major portions. The first portion calculates the hits (weak and strong transcription factor binding sights) for a specified chromosome and transcription factor. The second portion analyses these hits. Let's talk about these two portions more in depth.\n",
    "\n",
    "## Part 1: Finding the Hits\n",
    "---\n",
    "To calculate the hits, I read in from a file called `input.txt` which is formatted as follows (please note that numbers are line numbers):\n",
    "\n",
    "1. Name of fasta file\n",
    "2. Name of chromosome\n",
    "3. Name of tamo file\n",
    "4. Name of the transcription factor you want to use\n",
    "5. Weak threshold value\n",
    "6. Strong threshold value\n",
    "7. Size of each category of distances between sites\n",
    "8. Maximum allowed plus/minus distance between a strong and weak site\n",
    "\n",
    "I had originally sought out to do this project in [MatLab](https://www.mathworks.com), but with the fact that we're running our code with super big data, I have decided to use [Python](https://www.python.org) for this project. I read in the chromosome from a fasta file called [SGDv3.fasta](https://github.com/JohnLetey/A-Study-of-Transcription-and-Its-Affects/blob/master/SGDv3.fasta) and the associated PSSM to the transcription factor from the tamo file called [yeast.tamo](https://github.com/JohnLetey/A-Study-of-Transcription-and-Its-Affects/blob/master/yeast.tamo). Before we continue, let's first read in `input.txt`."
   ]
  },
  {
   "cell_type": "code",
   "execution_count": 1,
   "metadata": {},
   "outputs": [
    {
     "name": "stdout",
     "output_type": "stream",
     "text": [
      "['SGDv3.fasta', 'chr1', 'yeast.tamo', 'YAP5', 0.35, 0.7, 1, 15]\n"
     ]
    }
   ],
   "source": [
    "def readInInput(filename):\n",
    "    # Open the file\n",
    "    fileID = open(filename, 'r')\n",
    "    # Initialize the list that will hold the input\n",
    "    data = []\n",
    "    # Read in the input file\n",
    "    line = fileID.readline()\n",
    "    while line:\n",
    "        data.append(line[:len(line)-1])\n",
    "        line = fileID.readline()\n",
    "    # Convert into correct units\n",
    "    data[4] = float(data[4])\n",
    "    data[5] = float(data[5])\n",
    "    data[6] = int(data[6])\n",
    "    data[7] = int(data[7])\n",
    "    # Close the file\n",
    "    fileID.close()\n",
    "    # Return\n",
    "    return data\n",
    "\n",
    "# Test readInInput\n",
    "Input = readInInput('input.txt')\n",
    "print(Input)"
   ]
  },
  {
   "cell_type": "markdown",
   "metadata": {},
   "source": [
    " Now that we've read in `input.txt`, let's read in, from SGDv3.fasta, all the chromosomes:"
   ]
  },
  {
   "cell_type": "code",
   "execution_count": 2,
   "metadata": {
    "collapsed": true
   },
   "outputs": [],
   "source": [
    "def getCHR(filename, chrName):\n",
    "    # Open the fasta file\n",
    "    fileID = open(filename, 'r')\n",
    "    # Define the dictionary that will the hold the data from the chromosomes\n",
    "    chrData = {}\n",
    "    # Read in the fasta file\n",
    "    line = fileID.readline()\n",
    "    while line:\n",
    "        if line[0] == '>':\n",
    "            title = line[1:len(line)-1]\n",
    "            chrData[title] = ''\n",
    "        else:\n",
    "            chrData[title] += line[:len(line)-1]\n",
    "        line = fileID.readline()\n",
    "    # Return the specified chromosome\n",
    "    return chrData[chrName]"
   ]
  },
  {
   "cell_type": "markdown",
   "metadata": {},
   "source": [
    "After we read in all the different chromosomes, we also need to read in the corresponding PSSM to the given transcription factor."
   ]
  },
  {
   "cell_type": "code",
   "execution_count": 3,
   "metadata": {
    "collapsed": true
   },
   "outputs": [],
   "source": [
    "def getPSSM(filename, TF):\n",
    "    # Open the tamo file\n",
    "    fileID = open(filename, 'r')\n",
    "    # Read in the tamo file\n",
    "    tamoData = []\n",
    "    fileID = open(filename, 'r')\n",
    "    line = fileID.readline()\n",
    "    while line:\n",
    "        tamoData.append(line[:len(line)-1])\n",
    "        line = fileID.readline()\n",
    "    # Define what we're looking for\n",
    "    correctLine = 'Source:  ' + TF\n",
    "    # Search for your correct line\n",
    "    for i in range(123):\n",
    "        # Get line 19 + 42*i\n",
    "        line = tamoData[19 + 42*i - 1]\n",
    "        # Compare\n",
    "        if line == correctLine:\n",
    "            position = i\n",
    "    # Set the start line for the PSSM\n",
    "    startLine = 2 + 42*position\n",
    "    # Get the startLine's length to figure out the length of the PSSM\n",
    "    firstLine = tamoData[startLine]\n",
    "    lenOfPSSM = int((len(firstLine) - 3)/10) - 1\n",
    "    # Create a list that will contain the PSSM\n",
    "    PSSM = [[0 for i in range(lenOfPSSM)] for i in range(4)]\n",
    "    # Get the all the lines of the PSSM\n",
    "    firstLine = tamoData[startLine]\n",
    "    secondLine = tamoData[startLine + 1]\n",
    "    thirdLine = tamoData[startLine + 2]\n",
    "    fourthLine = tamoData[startLine + 3]\n",
    "    # Get the values and insert them into the PSSM\n",
    "    for i in range(lenOfPSSM):\n",
    "        value = firstLine[(i*10 + 6):(i*10 + 12)]\n",
    "        PSSM[0][i] = float(value)\n",
    "        value = secondLine[(i*10 + 6):(i*10 + 12)]\n",
    "        PSSM[1][i] = float(value)\n",
    "        value = thirdLine[(i*10 + 6):(i*10 + 12)]\n",
    "        PSSM[2][i] = float(value)\n",
    "        value = fourthLine[(i*10 + 6):(i*10 + 12)]\n",
    "        PSSM[3][i] = float(value)\n",
    "    # Return the PSSM and the length of the PSSM\n",
    "    return PSSM, lenOfPSSM"
   ]
  },
  {
   "cell_type": "markdown",
   "metadata": {
    "collapsed": true
   },
   "source": [
    "After we read in both the chromosomes and the corresponding PSSM for the given transcription factor, we need to write a function that caluclates the output of the PSSM when you give it a specific string."
   ]
  },
  {
   "cell_type": "code",
   "execution_count": 4,
   "metadata": {
    "collapsed": true
   },
   "outputs": [],
   "source": [
    "def outputOfPSSM(PSSM, sequence, maximum, lenOfPSSM):\n",
    "    # Go through the PSSM and calculate the output for the given sequence\n",
    "    output = 1.0\n",
    "    for i in range(lenOfPSSM):\n",
    "        if sequence[i] == 'A':\n",
    "            output += PSSM[0][i]\n",
    "        if sequence[i] == 'C':\n",
    "            output += PSSM[1][i]\n",
    "        if sequence[i] == 'T':\n",
    "            output += PSSM[2][i]\n",
    "        if sequence[i] == 'G':\n",
    "            output += PSSM[3][i]\n",
    "    output /= maximum\n",
    "    # Return output\n",
    "    return output"
   ]
  },
  {
   "cell_type": "markdown",
   "metadata": {},
   "source": [
    "Now that we have all of these functions, let's use them to calculate the hits for the specified chromosome and transcription factor."
   ]
  },
  {
   "cell_type": "code",
   "execution_count": 5,
   "metadata": {},
   "outputs": [
    {
     "data": {
      "text/plain": [
       "9.295212745666504"
      ]
     },
     "execution_count": 5,
     "metadata": {},
     "output_type": "execute_result"
    }
   ],
   "source": [
    "# Import the function that gets the time\n",
    "from time import time\n",
    "\n",
    "def calculateHits(InFilename, OutFilename):\n",
    "    # Get the time at the begining of the function\n",
    "    t_beg = time()\n",
    "    # Get the values in the input file\n",
    "    Input = readInInput(InFilename)\n",
    "    # Get the chromosome\n",
    "    chrData = getCHR(Input[0], Input[1])\n",
    "    # Get the PSSM for the corresponding transcription factor\n",
    "    PSSM, lenOfPSSM = getPSSM(Input[2], Input[3])\n",
    "    # Get the strong and weak thresholds\n",
    "    weakThreshold = Input[4]\n",
    "    strongThreshold = Input[5]\n",
    "    # Open the output file\n",
    "    fileID = open(OutFilename, 'w')\n",
    "    # Write to the output file\n",
    "    fileID.write('# searching ' + Input[1] + '\\n')\n",
    "    fileID.write('# for transcription factor ' + Input[3] + '\\n')\n",
    "    fileID.write('# weak threshold: ' + str(weakThreshold) + '\\n')\n",
    "    fileID.write('# strong threshold: ' + str(strongThreshold) + '\\n')\n",
    "    fileID.write('\\n')\n",
    "    fileID.write('# The following is the outputs of the program in the forwards direction. \\n')\n",
    "    fileID.write('# ~~~~~~~~~~~~~~~~~~~~~~~~~~~~~ \\n')\n",
    "    fileID.write('# \\n')\n",
    "    fileID.write('# position  strength  type       \\n')\n",
    "    # Find the maximum possible probability\n",
    "    maximum = 1\n",
    "    for i in range(lenOfPSSM):\n",
    "        maxForCollumn = 0\n",
    "        for j in range(4):\n",
    "            if PSSM[j][i] > maxForCollumn:\n",
    "                maxForCollumn = PSSM[j][i]\n",
    "        maximum = maximum + maxForCollumn\n",
    "    # Evaluate the chromosome with the PSSM and count how many strong and weak sites there are for the forwards direction\n",
    "    out = []\n",
    "    positionOfWeak = []\n",
    "    positionOfStrong = []\n",
    "    weakAmount = 0\n",
    "    strongAmount = 0\n",
    "    for i in range(len(chrData)):\n",
    "        if (i + lenOfPSSM) > len(chrData):\n",
    "            output = outputOfPSSM(PSSM, chrData[i:] + str([' ' for i in range(i + lenOfPSSM - 1 - len(chrData))]), maximum, lenOfPSSM)\n",
    "        else:\n",
    "            output = outputOfPSSM(PSSM, chrData[i:(i + lenOfPSSM)], maximum, lenOfPSSM)\n",
    "        out.append(output)\n",
    "        if output >= weakThreshold:\n",
    "            if output < strongThreshold:\n",
    "                fileID.write('  ' + str(i) + '     ' + str(output) + '     ' + ' ' + 'weak  ' + '\\n')\n",
    "                weakAmount += 1\n",
    "                positionOfWeak.append(i)\n",
    "            else:\n",
    "                fileID.write('  ' + str(i) + '     ' + str(output) + '     ' + ' ' + 'strong  ' + '\\n')\n",
    "                strongAmount += 1\n",
    "                positionOfStrong.append(i)\n",
    "    # Output to the output file the amount of weak and strong sites for the forwards direction\n",
    "    fileID.write('# \\n')\n",
    "    fileID.write('# ~~~~~~~~~~~~~~~~~~~~~~~~~~~~~ \\n')\n",
    "    fileID.write('# \\n')\n",
    "    fileID.write('# The number of weak sites for the forwards direction is ' + str(weakAmount) + '\\n')\n",
    "    fileID.write('# The number of strong sites for the forwards direction is ' + str(strongAmount) + '\\n')\n",
    "    # Write to the output file\n",
    "    fileID.write('\\n')\n",
    "    fileID.write('\\n')\n",
    "    fileID.write('# The following is the outputs of the program in the reverse compliment direction. \\n')\n",
    "    fileID.write('# ~~~~~~~~~~~~~~~~~~~~~~~~~~~~~ \\n')\n",
    "    fileID.write('# \\n')\n",
    "    fileID.write('# position  strength  type       \\n')\n",
    "    # Take the reverse compliment of the PSSM\n",
    "    for i in range(4):\n",
    "        PSSM[i] = PSSM[i][::-1]\n",
    "    temp = PSSM[0]\n",
    "    PSSM[0] = PSSM[3]\n",
    "    PSSM[3] = temp\n",
    "    temp = PSSM[1]\n",
    "    PSSM[1] = PSSM[2]\n",
    "    PSSM[2] = temp\n",
    "    # Find the maximum possible probability\n",
    "    maximum = 1\n",
    "    for i in range(lenOfPSSM):\n",
    "        maxForCollumn = 0\n",
    "        for j in range(4):\n",
    "            if PSSM[j][i] > maxForCollumn:\n",
    "                maxForCollumn = PSSM[j][i]\n",
    "        maximum = maximum + maxForCollumn\n",
    "    # Evaluate the chromosome with the PSSM and count how many strong and weak sites there are for the reverse compliment direction\n",
    "    out = []\n",
    "    positionOfWeak = []\n",
    "    positionOfStrong = []\n",
    "    weakAmount = 0\n",
    "    strongAmount = 0\n",
    "    for i in range(len(chrData)):\n",
    "        if (i + lenOfPSSM) > len(chrData):\n",
    "            output = outputOfPSSM(PSSM, chrData[i:] + str([' ' for i in range(i + lenOfPSSM - 1 - len(chrData))]), maximum, lenOfPSSM)\n",
    "        else:\n",
    "            output = outputOfPSSM(PSSM, chrData[i:(i + lenOfPSSM)], maximum, lenOfPSSM)\n",
    "        out.append(output)\n",
    "        if output >= weakThreshold:\n",
    "            if output < strongThreshold:\n",
    "                fileID.write('  ' + str(i) + '     ' + str(output) + '     ' + ' ' + 'weak  ' + '\\n')\n",
    "                weakAmount += 1\n",
    "                positionOfWeak.append(i)\n",
    "            else:\n",
    "                fileID.write('  ' + str(i) + '     ' + str(output) + '     ' + ' ' + 'strong  ' + '\\n')\n",
    "                strongAmount += 1\n",
    "                positionOfStrong.append(i)\n",
    "    # Output to the output file the amount of weak and strong sites for the reverse compliment direction\n",
    "    fileID.write('# \\n')\n",
    "    fileID.write('# ~~~~~~~~~~~~~~~~~~~~~~~~~~~~~ \\n')\n",
    "    fileID.write('# \\n')\n",
    "    fileID.write('# The number of weak sites for the forwards direction is ' + str(weakAmount) + '\\n')\n",
    "    fileID.write('# The number of strong sites for the forwards direction is ' + str(strongAmount) + '\\n')\n",
    "    # Close the output file\n",
    "    fileID.close()\n",
    "    # Get the time at the end of the function\n",
    "    t_end = time()\n",
    "    # Return the amount of seconds it took the function to run (in seconds)\n",
    "    return t_end - t_beg\n",
    "    \n",
    "calculateHits('input.txt', 'hits.txt')"
   ]
  },
  {
   "cell_type": "markdown",
   "metadata": {},
   "source": [
    "## Part 2: Analysing the Hits\n",
    "---"
   ]
  },
  {
   "cell_type": "code",
   "execution_count": 39,
   "metadata": {},
   "outputs": [
    {
     "data": {
      "text/plain": [
       "0.010827064514160156"
      ]
     },
     "execution_count": 39,
     "metadata": {},
     "output_type": "execute_result"
    }
   ],
   "source": [
    "# Import the function that gets the time\n",
    "from time import time\n",
    "\n",
    "def hist(InFilename, HitsInFilename, PicFile):\n",
    "    # Get the time at the begining of the function\n",
    "    t_beg = time()\n",
    "    # Open the input file that holds the hits\n",
    "    fileID = open(HitsInFilename, 'r')\n",
    "    # Initialize the list that will hold the input\n",
    "    data = []\n",
    "    # Read in the input file\n",
    "    line = fileID.readline()\n",
    "    while line:\n",
    "        data.append(line[:len(line)-1])\n",
    "        line = fileID.readline()\n",
    "    # Parse the input\n",
    "    weakSites = []\n",
    "    strongSites = []\n",
    "    for i in range(len(data)):\n",
    "        line = data[i]\n",
    "        if len(line) != 0:\n",
    "            if line[0] != '#':\n",
    "                # Get the position of the hit\n",
    "                position = line[2:9]\n",
    "                position = int(position)\n",
    "                # Get the type of the hit\n",
    "                typeOfHit = line[len(line)-8:len(line)-2]\n",
    "                # Input the position into the correct list\n",
    "                if typeOfHit == 'strong':\n",
    "                    strongSites.append(position)\n",
    "                if typeOfHit == '  weak':\n",
    "                    weakSites.append(position)\n",
    "    # Sort the lists holding the hits\n",
    "    weakSites.sort()\n",
    "    strongSites.sort()\n",
    "    # Close the input file that holds the hits\n",
    "    fileID.close()\n",
    "    # Read in the input file\n",
    "    \n",
    "    # Analyse the hits\n",
    "    # Get the time at the end of the function\n",
    "    t_end = time()\n",
    "    # Return the amount of seconds it took the function to run (in seconds)\n",
    "    return t_end - t_beg\n",
    "\n",
    "hist('input.txt', 'hits.txt', 'histogram.png')"
   ]
  },
  {
   "cell_type": "code",
   "execution_count": null,
   "metadata": {
    "collapsed": true
   },
   "outputs": [],
   "source": [
    "def main(InFilename, OutFilename):\n",
    "    append()"
   ]
  }
 ],
 "metadata": {
  "kernelspec": {
   "display_name": "Python 3",
   "language": "python",
   "name": "python3"
  },
  "language_info": {
   "codemirror_mode": {
    "name": "ipython",
    "version": 3
   },
   "file_extension": ".py",
   "mimetype": "text/x-python",
   "name": "python",
   "nbconvert_exporter": "python",
   "pygments_lexer": "ipython3",
   "version": "3.6.2"
  }
 },
 "nbformat": 4,
 "nbformat_minor": 2
}
