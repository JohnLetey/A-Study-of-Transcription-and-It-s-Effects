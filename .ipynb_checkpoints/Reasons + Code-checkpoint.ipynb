{
 "cells": [
  {
   "cell_type": "markdown",
   "metadata": {},
   "source": [
    "# A Study of Transcription and Its Affects\n",
    "---\n",
    "**Note:** To get to my GitHub repository, go to this [link](https://github.com/JohnLetey/A-Study-of-Transcription-and-Its-Affects).\n",
    "\n",
    "I have broken this project into to major portions. The first portion calculates the hits (weak and strong transcription factor binding sights) for a specified chromosome and transcription factor. The second portion analyses these hits. Let's talk about these two portions more in depth.\n",
    "\n",
    "## Part 1: Finding the Hits\n",
    "---\n",
    "To calculate the hits, I read in from a file called `input.txt` which is formatted as follows (please note that numbers are line numbers):\n",
    "\n",
    "1. Name of fasta file\n",
    "2. Name of chromosome\n",
    "3. Name of tamo file\n",
    "4. Name of the transcription factor you want to use\n",
    "5. Weak threshold value\n",
    "6. Strong threshold value\n",
    "7. Size of each category of distances between sites\n",
    "8. Maximum allowed plus/minus distance between a strong and weak site\n",
    "\n",
    "I had originally sought out to do this project in [MatLab](https://www.mathworks.com), but with the fact that we're running our code with super big data, I have decided to use [Python](https://www.python.org) for this project. I read in the chromosome from a fasta file called [SGDv3.fasta](https://github.com/JohnLetey/A-Study-of-Transcription-and-Its-Affects/blob/master/SGDv3.fasta) and the associated PSSM to the transcription factor from the tamo file called [yeast.tamo](https://github.com/JohnLetey/A-Study-of-Transcription-and-Its-Affects/blob/master/yeast.tamo). Before we continue, let's first read in `input.txt`."
   ]
  },
  {
   "cell_type": "code",
   "execution_count": 1,
   "metadata": {},
   "outputs": [
    {
     "name": "stdout",
     "output_type": "stream",
     "text": [
      "['SGDv3.fasta', 'chr2', 'yeast.tamo', 'YAP5', '0.35', '0.7', '1', '15']\n"
     ]
    }
   ],
   "source": [
    "def readInInput(filename):\n",
    "    # Open the file\n",
    "    fileID = open(filename, 'r')\n",
    "    # Initialize the list that will hold the input\n",
    "    data = []\n",
    "    # Read in the input file\n",
    "    line = fileID.readline()\n",
    "    while line:\n",
    "        data.append(line[:len(line)-1])\n",
    "        line = fileID.readline()\n",
    "    # Return\n",
    "    return data\n",
    "    \n",
    "Input = readInInput('input.txt')\n",
    "print(Input)"
   ]
  },
  {
   "cell_type": "markdown",
   "metadata": {},
   "source": [
    " Now that we've read in `input.txt`, let's read in, from SGDv3.fasta, all the chromosomes:"
   ]
  },
  {
   "cell_type": "code",
   "execution_count": 2,
   "metadata": {},
   "outputs": [],
   "source": [
    "def getCHR(filename):\n",
    "    # Open the fasta file\n",
    "    fileID = open(filename, 'r')\n",
    "    # Define the dictionary that will the hold the data from the chromosomes\n",
    "    chrData = {}\n",
    "    # Read in the fasta file\n",
    "    line = fileID.readline()\n",
    "    while line:\n",
    "        if line[0] == '>':\n",
    "            title = line[1:len(line)-1]\n",
    "            chrData[title] = ''\n",
    "        else:\n",
    "            chrData[title] += line[:len(line)-1]\n",
    "        line = fileID.readline()\n",
    "    # Return\n",
    "    return chrData\n",
    "\n",
    "chrData = getCHR(Input[0])"
   ]
  },
  {
   "cell_type": "markdown",
   "metadata": {},
   "source": [
    "After we read in all the different chromosomes, we also need to read in the corresponding PSSM to the given chromosome."
   ]
  },
  {
   "cell_type": "code",
   "execution_count": 48,
   "metadata": {},
   "outputs": [
    {
     "name": "stdout",
     "output_type": "stream",
     "text": [
      "[[0, 0, 0, 0], [0, 0, 0, 0], [0, 0, 0, 0], [0, 0, 0, 0], [0, 0, 0, 0]]\n",
      "5\n",
      "0\n",
      " 1.232 1.232\n",
      "-9.396 -9.396\n",
      "-0.512 -0.512\n",
      "1\n",
      " 1.245 1.245\n",
      "-9.477 -9.477\n",
      "-8.793 -8.793\n",
      "2\n",
      " 0.743 0.743\n",
      "-7.787 -7.787\n",
      "-9.211 -9.211\n",
      "3\n",
      "-9.194 -9.194\n",
      " 2.317 2.317\n",
      "-1.365 -1.365\n",
      "4\n"
     ]
    },
    {
     "ename": "IndexError",
     "evalue": "list assignment index out of range",
     "output_type": "error",
     "traceback": [
      "\u001b[0;31m---------------------------------------------------------------------------\u001b[0m",
      "\u001b[0;31mIndexError\u001b[0m                                Traceback (most recent call last)",
      "\u001b[0;32m<ipython-input-48-94fe91c65cc2>\u001b[0m in \u001b[0;36m<module>\u001b[0;34m()\u001b[0m\n\u001b[1;32m     45\u001b[0m         \u001b[0mPSSM\u001b[0m\u001b[0;34m[\u001b[0m\u001b[0;36m4\u001b[0m\u001b[0;34m]\u001b[0m\u001b[0;34m[\u001b[0m\u001b[0mi\u001b[0m\u001b[0;34m]\u001b[0m \u001b[0;34m=\u001b[0m \u001b[0mfloat\u001b[0m\u001b[0;34m(\u001b[0m\u001b[0mvalue\u001b[0m\u001b[0;34m)\u001b[0m\u001b[0;34m\u001b[0m\u001b[0m\n\u001b[1;32m     46\u001b[0m \u001b[0;34m\u001b[0m\u001b[0m\n\u001b[0;32m---> 47\u001b[0;31m \u001b[0mPSSM\u001b[0m \u001b[0;34m=\u001b[0m \u001b[0mgetPSSM\u001b[0m\u001b[0;34m(\u001b[0m\u001b[0mInput\u001b[0m\u001b[0;34m[\u001b[0m\u001b[0;36m2\u001b[0m\u001b[0;34m]\u001b[0m\u001b[0;34m,\u001b[0m \u001b[0mInput\u001b[0m\u001b[0;34m[\u001b[0m\u001b[0;36m3\u001b[0m\u001b[0;34m]\u001b[0m\u001b[0;34m)\u001b[0m\u001b[0;34m\u001b[0m\u001b[0m\n\u001b[0m",
      "\u001b[0;32m<ipython-input-48-94fe91c65cc2>\u001b[0m in \u001b[0;36mgetPSSM\u001b[0;34m(filename, TF)\u001b[0m\n\u001b[1;32m     34\u001b[0m         \u001b[0mprint\u001b[0m\u001b[0;34m(\u001b[0m\u001b[0mi\u001b[0m\u001b[0;34m)\u001b[0m\u001b[0;34m\u001b[0m\u001b[0m\n\u001b[1;32m     35\u001b[0m         \u001b[0mvalue\u001b[0m \u001b[0;34m=\u001b[0m \u001b[0mfirstLine\u001b[0m\u001b[0;34m[\u001b[0m\u001b[0;34m(\u001b[0m\u001b[0mi\u001b[0m\u001b[0;34m*\u001b[0m\u001b[0;36m10\u001b[0m \u001b[0;34m+\u001b[0m \u001b[0;36m6\u001b[0m\u001b[0;34m)\u001b[0m\u001b[0;34m:\u001b[0m\u001b[0;34m(\u001b[0m\u001b[0mi\u001b[0m\u001b[0;34m*\u001b[0m\u001b[0;36m10\u001b[0m \u001b[0;34m+\u001b[0m \u001b[0;36m12\u001b[0m\u001b[0;34m)\u001b[0m\u001b[0;34m]\u001b[0m\u001b[0;34m\u001b[0m\u001b[0m\n\u001b[0;32m---> 36\u001b[0;31m         \u001b[0mPSSM\u001b[0m\u001b[0;34m[\u001b[0m\u001b[0;36m1\u001b[0m\u001b[0;34m]\u001b[0m\u001b[0;34m[\u001b[0m\u001b[0mi\u001b[0m\u001b[0;34m]\u001b[0m \u001b[0;34m=\u001b[0m \u001b[0mfloat\u001b[0m\u001b[0;34m(\u001b[0m\u001b[0mvalue\u001b[0m\u001b[0;34m)\u001b[0m\u001b[0;34m\u001b[0m\u001b[0m\n\u001b[0m\u001b[1;32m     37\u001b[0m         \u001b[0mprint\u001b[0m\u001b[0;34m(\u001b[0m\u001b[0mvalue\u001b[0m\u001b[0;34m,\u001b[0m \u001b[0mfloat\u001b[0m\u001b[0;34m(\u001b[0m\u001b[0mvalue\u001b[0m\u001b[0;34m)\u001b[0m\u001b[0;34m)\u001b[0m\u001b[0;34m\u001b[0m\u001b[0m\n\u001b[1;32m     38\u001b[0m         \u001b[0mvalue\u001b[0m \u001b[0;34m=\u001b[0m \u001b[0msecondLine\u001b[0m\u001b[0;34m[\u001b[0m\u001b[0;34m(\u001b[0m\u001b[0mi\u001b[0m\u001b[0;34m*\u001b[0m\u001b[0;36m10\u001b[0m \u001b[0;34m+\u001b[0m \u001b[0;36m6\u001b[0m\u001b[0;34m)\u001b[0m\u001b[0;34m:\u001b[0m\u001b[0;34m(\u001b[0m\u001b[0mi\u001b[0m\u001b[0;34m*\u001b[0m\u001b[0;36m10\u001b[0m \u001b[0;34m+\u001b[0m \u001b[0;36m12\u001b[0m\u001b[0;34m)\u001b[0m\u001b[0;34m]\u001b[0m\u001b[0;34m\u001b[0m\u001b[0m\n",
      "\u001b[0;31mIndexError\u001b[0m: list assignment index out of range"
     ]
    }
   ],
   "source": [
    "def getPSSM(filename, TF):\n",
    "    # Read in the tamo file\n",
    "    tamoData = []\n",
    "    fileID = open(filename, 'r')\n",
    "    line = fileID.readline()\n",
    "    while line:\n",
    "        tamoData.append(line[:len(line)-1])\n",
    "        line = fileID.readline()\n",
    "    # Define what we're looking for\n",
    "    correctLine = 'Source:  ' + TF\n",
    "    # Search for your correct line\n",
    "    for i in range(123):\n",
    "        # Get line 19 + 42*i\n",
    "        line = tamoData[19 + 42*i - 1]\n",
    "        # Compare\n",
    "        if line == correctLine:\n",
    "            position = i\n",
    "    # Set the start line for the PSSM\n",
    "    startLine = 2 + 42*position\n",
    "    # Get the startLine's length to figure out the length of the PSSM\n",
    "    firstLine = tamoData[startLine]\n",
    "    lenOfPSSM = int((len(firstLine) - 3)/10) - 1\n",
    "    # Create a list that will contain the PSSM\n",
    "    PSSM = [[0, 0, 0, 0] for i in range(lenOfPSSM)]\n",
    "    print(PSSM)\n",
    "    print(len(PSSM))\n",
    "    # Get the all the lines of the PSSM\n",
    "    firstLine = tamoData[startLine]\n",
    "    secondLine = tamoData[startLine + 1]\n",
    "    thirdLine = tamoData[startLine + 2]\n",
    "    fourthLine = tamoData[startLine + 3]\n",
    "    # Get the values and insert them into the PSSM\n",
    "    for i in range(lenOfPSSM):\n",
    "        print(i)\n",
    "        value = firstLine[(i*10 + 6):(i*10 + 12)]\n",
    "        PSSM[1][i] = float(value)\n",
    "        print(value, float(value))\n",
    "        value = secondLine[(i*10 + 6):(i*10 + 12)]\n",
    "        PSSM[2][i] = float(value)\n",
    "        print(value, float(value))\n",
    "        value = thirdLine[(i*10 + 6):(i*10 + 12)]\n",
    "        PSSM[3][i] = float(value)\n",
    "        print(value, float(value))\n",
    "        value = fourthLine[(i*10 + 6):(i*10 + 12)]\n",
    "        PSSM[4][i] = float(value)\n",
    "    \n",
    "PSSM = getPSSM(Input[2], Input[3])"
   ]
  },
  {
   "cell_type": "code",
   "execution_count": null,
   "metadata": {
    "collapsed": true
   },
   "outputs": [],
   "source": []
  }
 ],
 "metadata": {
  "kernelspec": {
   "display_name": "Python 3",
   "language": "python",
   "name": "python3"
  },
  "language_info": {
   "codemirror_mode": {
    "name": "ipython",
    "version": 3
   },
   "file_extension": ".py",
   "mimetype": "text/x-python",
   "name": "python",
   "nbconvert_exporter": "python",
   "pygments_lexer": "ipython3",
   "version": "3.6.2"
  }
 },
 "nbformat": 4,
 "nbformat_minor": 2
}
