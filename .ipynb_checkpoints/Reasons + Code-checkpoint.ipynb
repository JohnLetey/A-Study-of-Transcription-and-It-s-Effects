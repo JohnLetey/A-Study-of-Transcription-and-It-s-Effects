{
 "cells": [
  {
   "cell_type": "markdown",
   "metadata": {},
   "source": [
    "# A Study of Transcription and Its Affects\n",
    "---\n",
    "**Contributors:** John M. Letey (John.Letey@colorado.edu), David A. Knox (David.Knox@colorado.edu)\n",
    "\n",
    "**Notes:** To get to my GitHub repository, go to this [website](https://github.com/JohnLetey/A-Study-of-Transcription-and-Its-Affects). For instructions on how to use my repository, go [here](https://github.com/JohnLetey/A-Study-of-Transcription-and-Its-Affects/blob/master/instructions.md).\n",
    "\n",
    "I have broken this project into to major portions. The first portion calculates the hits (weak and strong transcription factor binding sights) for a specified chromosome and transcription factor. The second portion analyses these hits. Let's talk about these two portions more in depth.\n",
    "\n",
    "## Part 1: Finding the Hits\n",
    "---\n",
    "To calculate the hits, I read in from a file called $\\texttt{input.txt}$ which is formatted as follows:\n",
    "\n",
    "|  Line Number  | Description |\n",
    "|:---:|:---:|\n",
    "| 1 | Name of fasta file |\n",
    "| 2 | Name of tamo file |\n",
    "| 3 | Weak threshold value |\n",
    "| 4 | Strong threshold value |\n",
    "| 5 | Size of each category of distances between sites |\n",
    "| 6 | Maximum allowed plus/minus distance between a strong and weak site |\n",
    "\n",
    "I had originally sought out to do this project in [MatLab](https://www.mathworks.com), but with the fact that we're running our code with super big data (and for the sake of your and my sanity), I have decided to use [Python](https://www.python.org), with [Jupyter Notebook](http://jupyter.org), for this project. I read in the chromosomes from a fasta file called $\\texttt{SGDv3.fasta}$ and the associated PSSM to the transcription factor from the tamo file called $\\texttt{yeast.tamo}$. Before we continue, let's first read in $\\texttt{input.txt}$."
   ]
  },
  {
   "cell_type": "code",
   "execution_count": 11,
   "metadata": {},
   "outputs": [
    {
     "name": "stdout",
     "output_type": "stream",
     "text": [
      "['Data/SGDv3.fasta', 'Data/yeast.tamo', 0.35, 0.7, 1, 150]\n"
     ]
    }
   ],
   "source": [
    "def readInInput(filename):\n",
    "    # Open the file\n",
    "    fileID = open(filename, 'r')\n",
    "    # Initialize the list that will hold the input\n",
    "    data = []\n",
    "    # Read in the input file\n",
    "    line = fileID.readline()\n",
    "    while line:\n",
    "        if line[len(line)-1] == '\\n':\n",
    "            data.append(line[:len(line)-1])\n",
    "        else:\n",
    "            data.append(line)\n",
    "        line = fileID.readline()\n",
    "    # Convert into correct units\n",
    "    data[2] = float(data[2])\n",
    "    data[3] = float(data[3])\n",
    "    data[4] = int(data[4])\n",
    "    data[5] = int(data[5])\n",
    "    # Close the file\n",
    "    fileID.close()\n",
    "    # Return\n",
    "    return data\n",
    "\n",
    "# Test readInInput\n",
    "Input = readInInput('Data/input.txt')\n",
    "print(Input)"
   ]
  },
  {
   "cell_type": "markdown",
   "metadata": {},
   "source": [
    " Now that we've read in $\\texttt{input.txt}$, let's implement a function that reads in from $\\texttt{SGDv3.fasta}$ a specific chromosome."
   ]
  },
  {
   "cell_type": "code",
   "execution_count": 16,
   "metadata": {},
   "outputs": [],
   "source": [
    "def getCHR(filename, chrName):\n",
    "    # Open the fasta file\n",
    "    fileID = open(filename, 'r')\n",
    "    # Define the dictionary that will the hold the data from the chromosomes\n",
    "    chrData = {}\n",
    "    # Read in the fasta file\n",
    "    line = fileID.readline()\n",
    "    while line:\n",
    "        if line[0] == '>':\n",
    "            title = line[1:len(line)-1]\n",
    "            chrData[title] = ''\n",
    "        else:\n",
    "            chrData[title] += line[:len(line)-1]\n",
    "        line = fileID.readline()\n",
    "    # Return the specified chromosome\n",
    "    if chrName == 'all':\n",
    "        allCHRData = {}\n",
    "        count = 0\n",
    "        for i in chrData.keys():\n",
    "            if count < len(chrData)-2:\n",
    "                if int(i[3:]):\n",
    "                    allCHRData[i] = chrData[i]\n",
    "            count += 1\n",
    "        return allCHRData\n",
    "    else:\n",
    "        return chrData[chrName]"
   ]
  },
  {
   "cell_type": "markdown",
   "metadata": {},
   "source": [
    "After we read in the chromosomes, we also need to read in the corresponding PSSM to the given transcription factor."
   ]
  },
  {
   "cell_type": "code",
   "execution_count": 3,
   "metadata": {
    "collapsed": true
   },
   "outputs": [],
   "source": [
    "def getPSSM(filename, TF):\n",
    "    # Open the tamo file\n",
    "    fileID = open(filename, 'r')\n",
    "    # Read in the tamo file\n",
    "    tamoData = []\n",
    "    fileID = open(filename, 'r')\n",
    "    line = fileID.readline()\n",
    "    while line:\n",
    "        tamoData.append(line[:len(line)-1])\n",
    "        line = fileID.readline()\n",
    "    # Define what we're looking for\n",
    "    correctLine = 'Source:  ' + TF\n",
    "    # Search for your correct line\n",
    "    for i in range(123):\n",
    "        # Get line 19 + 42*i\n",
    "        line = tamoData[19 + 42*i - 1]\n",
    "        # Compare\n",
    "        if line == correctLine:\n",
    "            position = i\n",
    "    # Set the start line for the PSSM\n",
    "    startLine = 2 + 42*position\n",
    "    # Get the startLine's length to figure out the length of the PSSM\n",
    "    firstLine = tamoData[startLine]\n",
    "    lenOfPSSM = int((len(firstLine) - 3)/10) - 1\n",
    "    # Create a list that will contain the PSSM\n",
    "    PSSM = [[0 for i in range(lenOfPSSM)] for i in range(4)]\n",
    "    # Get the all the lines of the PSSM\n",
    "    firstLine = tamoData[startLine]\n",
    "    secondLine = tamoData[startLine + 1]\n",
    "    thirdLine = tamoData[startLine + 2]\n",
    "    fourthLine = tamoData[startLine + 3]\n",
    "    # Get the values and insert them into the PSSM\n",
    "    for i in range(lenOfPSSM):\n",
    "        value = firstLine[(i*10 + 6):(i*10 + 12)]\n",
    "        PSSM[0][i] = float(value)\n",
    "        value = secondLine[(i*10 + 6):(i*10 + 12)]\n",
    "        PSSM[1][i] = float(value)\n",
    "        value = thirdLine[(i*10 + 6):(i*10 + 12)]\n",
    "        PSSM[2][i] = float(value)\n",
    "        value = fourthLine[(i*10 + 6):(i*10 + 12)]\n",
    "        PSSM[3][i] = float(value)\n",
    "    # Return the PSSM and the length of the PSSM\n",
    "    return PSSM, lenOfPSSM"
   ]
  },
  {
   "cell_type": "markdown",
   "metadata": {
    "collapsed": true
   },
   "source": [
    "After we read in both the chromosomes and the corresponding PSSM for the given transcription factor, we need to write a function that caluclates the output of the PSSM when you give it a specific string."
   ]
  },
  {
   "cell_type": "code",
   "execution_count": 4,
   "metadata": {
    "collapsed": true
   },
   "outputs": [],
   "source": [
    "def outputOfPSSM(PSSM, sequence, maximum, lenOfPSSM):\n",
    "    # Go through the PSSM and calculate the output for the given sequence\n",
    "    output = 1.0\n",
    "    for i in range(lenOfPSSM):\n",
    "        if sequence[i] == 'A':\n",
    "            output += PSSM[0][i]\n",
    "        if sequence[i] == 'C':\n",
    "            output += PSSM[1][i]\n",
    "        if sequence[i] == 'T':\n",
    "            output += PSSM[2][i]\n",
    "        if sequence[i] == 'G':\n",
    "            output += PSSM[3][i]\n",
    "    output /= maximum\n",
    "    # Return output\n",
    "    return output"
   ]
  },
  {
   "cell_type": "markdown",
   "metadata": {},
   "source": [
    "Now that we have all of these functions, let's use them to calculate the hits for the specified chromosome and transcription factor."
   ]
  },
  {
   "cell_type": "code",
   "execution_count": 5,
   "metadata": {
    "collapsed": true,
    "scrolled": false
   },
   "outputs": [],
   "source": [
    "# Import the function that gets the time\n",
    "from time import time\n",
    "\n",
    "def calculateHits(chrFilename, CHR, PSSMFilename, TF, OutFilename):\n",
    "    # Get the time at the begining of the function\n",
    "    t_beg = time()\n",
    "    # Get the chromosome\n",
    "    chrData = getCHR(chrFilename, CHR)\n",
    "    # Get the PSSM for the corresponding transcription factor\n",
    "    PSSM, lenOfPSSM = getPSSM(PSSMFilename, TF)\n",
    "    # Get the strong and weak thresholds\n",
    "    weakThreshold = Input[4]\n",
    "    strongThreshold = Input[5]\n",
    "    # Open the output file\n",
    "    fileID = open(OutFilename, 'w')\n",
    "    # Write to the output file\n",
    "    fileID.write('# searching ' + Input[1] + '\\n')\n",
    "    fileID.write('# for transcription factor ' + Input[3] + '\\n')\n",
    "    fileID.write('# weak threshold: ' + str(weakThreshold) + '\\n')\n",
    "    fileID.write('# strong threshold: ' + str(strongThreshold) + '\\n')\n",
    "    fileID.write('\\n')\n",
    "    fileID.write('# The following is the outputs of the program in the forwards direction. \\n')\n",
    "    fileID.write('# ~~~~~~~~~~~~~~~~~~~~~~~~~~~~~ \\n')\n",
    "    fileID.write('# \\n')\n",
    "    fileID.write('# position  strength  type       \\n')\n",
    "    # Find the maximum possible probability\n",
    "    maximum = 1\n",
    "    for i in range(lenOfPSSM):\n",
    "        maxForCollumn = 0\n",
    "        for j in range(4):\n",
    "            if PSSM[j][i] > maxForCollumn:\n",
    "                maxForCollumn = PSSM[j][i]\n",
    "        maximum = maximum + maxForCollumn\n",
    "    # Evaluate the chromosome with the PSSM and count how many strong and weak sites there are for the forwards direction\n",
    "    out = []\n",
    "    positionOfWeak = []\n",
    "    positionOfStrong = []\n",
    "    weakAmount = 0\n",
    "    strongAmount = 0\n",
    "    for i in range(len(chrData)):\n",
    "        if (i + lenOfPSSM) > len(chrData):\n",
    "            output = outputOfPSSM(PSSM, chrData[i:] + str([' ' for i in range(i + lenOfPSSM - 1 - len(chrData))]), maximum, lenOfPSSM)\n",
    "        else:\n",
    "            output = outputOfPSSM(PSSM, chrData[i:(i + lenOfPSSM)], maximum, lenOfPSSM)\n",
    "        out.append(output)\n",
    "        if output >= weakThreshold:\n",
    "            if output < strongThreshold:\n",
    "                fileID.write('  ' + str(i) + '     ' + str(output) + '     ' + ' ' + 'weak  ' + '\\n')\n",
    "                weakAmount += 1\n",
    "                positionOfWeak.append(i)\n",
    "            else:\n",
    "                fileID.write('  ' + str(i) + '     ' + str(output) + '     ' + ' ' + 'strong  ' + '\\n')\n",
    "                strongAmount += 1\n",
    "                positionOfStrong.append(i)\n",
    "    # Output to the output file the amount of weak and strong sites for the forwards direction\n",
    "    fileID.write('# \\n')\n",
    "    fileID.write('# ~~~~~~~~~~~~~~~~~~~~~~~~~~~~~ \\n')\n",
    "    fileID.write('# \\n')\n",
    "    fileID.write('# The number of weak sites for the forwards direction is ' + str(weakAmount) + '\\n')\n",
    "    fileID.write('# The number of strong sites for the forwards direction is ' + str(strongAmount) + '\\n')\n",
    "    # Write to the output file\n",
    "    fileID.write('\\n')\n",
    "    fileID.write('\\n')\n",
    "    fileID.write('# The following is the outputs of the program in the reverse compliment direction. \\n')\n",
    "    fileID.write('# ~~~~~~~~~~~~~~~~~~~~~~~~~~~~~ \\n')\n",
    "    fileID.write('# \\n')\n",
    "    fileID.write('# position  strength  type       \\n')\n",
    "    # Take the reverse compliment of the PSSM\n",
    "    for i in range(4):\n",
    "        PSSM[i] = PSSM[i][::-1]\n",
    "    temp = PSSM[0]\n",
    "    PSSM[0] = PSSM[3]\n",
    "    PSSM[3] = temp\n",
    "    temp = PSSM[1]\n",
    "    PSSM[1] = PSSM[2]\n",
    "    PSSM[2] = temp\n",
    "    # Find the maximum possible probability\n",
    "    maximum = 1\n",
    "    for i in range(lenOfPSSM):\n",
    "        maxForCollumn = 0\n",
    "        for j in range(4):\n",
    "            if PSSM[j][i] > maxForCollumn:\n",
    "                maxForCollumn = PSSM[j][i]\n",
    "        maximum = maximum + maxForCollumn\n",
    "    # Evaluate the chromosome with the PSSM and count how many strong and weak sites there are for the reverse compliment direction\n",
    "    out = []\n",
    "    positionOfWeak = []\n",
    "    positionOfStrong = []\n",
    "    weakAmount = 0\n",
    "    strongAmount = 0\n",
    "    for i in range(len(chrData)):\n",
    "        if (i + lenOfPSSM) > len(chrData):\n",
    "            output = outputOfPSSM(PSSM, chrData[i:] + str([' ' for i in range(i + lenOfPSSM - 1 - len(chrData))]), maximum, lenOfPSSM)\n",
    "        else:\n",
    "            output = outputOfPSSM(PSSM, chrData[i:(i + lenOfPSSM)], maximum, lenOfPSSM)\n",
    "        out.append(output)\n",
    "        if output >= weakThreshold:\n",
    "            if output < strongThreshold:\n",
    "                fileID.write('  ' + str(i) + '     ' + str(output) + '     ' + ' ' + 'weak  ' + '\\n')\n",
    "                weakAmount += 1\n",
    "                positionOfWeak.append(i)\n",
    "            else:\n",
    "                fileID.write('  ' + str(i) + '     ' + str(output) + '     ' + ' ' + 'strong  ' + '\\n')\n",
    "                strongAmount += 1\n",
    "                positionOfStrong.append(i)\n",
    "    # Output to the output file the amount of weak and strong sites for the reverse compliment direction\n",
    "    fileID.write('# \\n')\n",
    "    fileID.write('# ~~~~~~~~~~~~~~~~~~~~~~~~~~~~~ \\n')\n",
    "    fileID.write('# \\n')\n",
    "    fileID.write('# The number of weak sites for the forwards direction is ' + str(weakAmount) + '\\n')\n",
    "    fileID.write('# The number of strong sites for the forwards direction is ' + str(strongAmount) + '\\n')\n",
    "    # Close the output file\n",
    "    fileID.close()\n",
    "    # Get the time at the end of the function\n",
    "    t_end = time()\n",
    "    # Return the amount of seconds it took the function to run (in seconds)\n",
    "    return t_end - t_beg\n",
    "\n",
    "#calculateHits('SGDv3.fasta', 'all', 'yeast.tamo', 'YAP5', 'hits.txt')"
   ]
  },
  {
   "cell_type": "markdown",
   "metadata": {},
   "source": [
    "## Part 2: Analysing the Hits\n",
    "---\n",
    "Now that we have calculated the hits, this wouldn't be a research project without analysing those hits."
   ]
  },
  {
   "cell_type": "code",
   "execution_count": 6,
   "metadata": {
    "collapsed": true,
    "scrolled": false
   },
   "outputs": [],
   "source": [
    "# Import the function that gets the time\n",
    "from time import time\n",
    "# Import matplotlib\n",
    "import matplotlib.pyplot as plt\n",
    "# Import the median function\n",
    "from statistics import median\n",
    "# Import the standard deviation function\n",
    "from numpy import std\n",
    "\n",
    "def hist(InFilename, HitsInFilename, PicFile):\n",
    "    # Get the time at the begining of the function\n",
    "    t_beg = time()\n",
    "    # Open the input file that holds the hits\n",
    "    fileID = open(HitsInFilename, 'r')\n",
    "    # Initialize the list that will hold the input\n",
    "    data = []\n",
    "    # Read in the input file\n",
    "    line = fileID.readline()\n",
    "    while line:\n",
    "        data.append(line[:len(line)-1])\n",
    "        line = fileID.readline()\n",
    "    # Parse the input\n",
    "    weakSites = []\n",
    "    strongSites = []\n",
    "    for i in range(len(data)):\n",
    "        line = data[i]\n",
    "        if len(line) != 0:\n",
    "            if line[0] != '#':\n",
    "                # Get the position of the hit\n",
    "                position = line[2:8]\n",
    "                position = int(position)\n",
    "                # Get the type of the hit\n",
    "                typeOfHit = line[len(line)-8:len(line)-2]\n",
    "                # Input the position into the correct list\n",
    "                if typeOfHit == 'strong':\n",
    "                    strongSites.append(position)\n",
    "                if typeOfHit == '  weak':\n",
    "                    weakSites.append(position)\n",
    "    # Sort the lists holding the hits\n",
    "    weakSites = list(set(weakSites))\n",
    "    weakSites.sort()\n",
    "    strongSites = list(set(strongSites))\n",
    "    strongSites.sort()\n",
    "    # Close the input file that holds the hits\n",
    "    fileID.close()\n",
    "    # Read in the input file\n",
    "    Input = readInInput(InFilename)\n",
    "    # Get the number of plus or minus range of what we're going to be anaylsing and the size of the buckets\n",
    "    r = Input[7]\n",
    "    s = Input[6]\n",
    "    # Analyse the hits\n",
    "    categories = [0 for i in range(r)]\n",
    "    for i in range(len(strongSites)):\n",
    "        for j in range(len(weakSites)):\n",
    "            value = abs(strongSites[i] - weakSites[j])\n",
    "            for k in range(r//s):\n",
    "                if (value <= (s*k) and (value > s*(k-1))):\n",
    "                    categories[k] += 1\n",
    "    #for i in range(len(strongSites)):\n",
    "    #    for j in range(len(weakSites)):\n",
    "    #        if weakSites[j] > strongSites[i]-r:\n",
    "    #            position1 = j\n",
    "    #            break\n",
    "    #    for j in range(len(weakSites)):\n",
    "    #        if weakSites[j] > strongSites[i]+r:\n",
    "    #            position2 = j\n",
    "    #            break\n",
    "    #    for j in range(position1, position2):\n",
    "    #        value = abs(strongSites[i] - weakSites[j])\n",
    "    #        for k in range(r//s):\n",
    "    #            if (value <= (s*k) and (value > s*(k-1))):\n",
    "    #                categories[k] += 1\n",
    "    # Plot the histogram\n",
    "    fig, ax = plt.subplots(nrows=1, ncols=1, figsize=(10,5))\n",
    "    ax.bar(range(len(categories)), categories, color='black', label='Histogram')\n",
    "    plt.plot(range(len(categories)), [median(categories) for i in range(len(categories))], color='red', label='Median')\n",
    "    plt.plot(range(len(categories)), [std(categories) for i in range(len(categories))], color='cyan', label='Standard Deviation')\n",
    "    ax.legend()\n",
    "    fig.savefig(PicFile)\n",
    "    plt.show()\n",
    "    # Get the time at the end of the function\n",
    "    t_end = time()\n",
    "    # Return the amount of seconds it took the function to run (in seconds)\n",
    "    return t_end - t_beg"
   ]
  },
  {
   "cell_type": "markdown",
   "metadata": {
    "collapsed": true
   },
   "source": [
    "Now that we have "
   ]
  },
  {
   "cell_type": "code",
   "execution_count": 7,
   "metadata": {
    "scrolled": false
   },
   "outputs": [
    {
     "name": "stdout",
     "output_type": "stream",
     "text": [
      "HSF1\n"
     ]
    },
    {
     "data": {
      "image/png": "[encoded data removed]",
      "text/plain": [
       "<matplotlib.figure.Figure at 0x11068be48>"
      ]
     },
     "metadata": {},
     "output_type": "display_data"
    },
    {
     "name": "stdout",
     "output_type": "stream",
     "text": [
      "RPN4\n"
     ]
    },
    {
     "data": {
      "image/png": "[encoded data removed]",
      "text/plain": [
       "<matplotlib.figure.Figure at 0x113058c88>"
      ]
     },
     "metadata": {},
     "output_type": "display_data"
    },
    {
     "name": "stdout",
     "output_type": "stream",
     "text": [
      "THI2\n"
     ]
    },
    {
     "data": {
      "image/png": "[encoded data removed]",
      "text/plain": [
       "<matplotlib.figure.Figure at 0x112f38b70>"
      ]
     },
     "metadata": {},
     "output_type": "display_data"
    },
    {
     "name": "stdout",
     "output_type": "stream",
     "text": [
      "UGA3\n"
     ]
    },
    {
     "data": {
      "image/png": "[encoded data removed]",
      "text/plain": [
       "<matplotlib.figure.Figure at 0x11d697cc0>"
      ]
     },
     "metadata": {},
     "output_type": "display_data"
    },
    {
     "name": "stdout",
     "output_type": "stream",
     "text": [
      "SMP1\n"
     ]
    },
    {
     "data": {
      "image/png": "[encoded data removed]",
      "text/plain": [
       "<matplotlib.figure.Figure at 0x11d697e48>"
      ]
     },
     "metadata": {},
     "output_type": "display_data"
    },
    {
     "name": "stdout",
     "output_type": "stream",
     "text": [
      "RTG3\n"
     ]
    },
    {
     "ename": "KeyboardInterrupt",
     "evalue": "",
     "output_type": "error",
     "traceback": [
      "\u001b[0;31m---------------------------------------------------------------------------\u001b[0m",
      "\u001b[0;31mKeyboardInterrupt\u001b[0m                         Traceback (most recent call last)",
      "\u001b[0;32m<ipython-input-7-9e5f4e9baed6>\u001b[0m in \u001b[0;36m<module>\u001b[0;34m()\u001b[0m\n\u001b[1;32m     22\u001b[0m     \u001b[0;32mreturn\u001b[0m \u001b[0mt_end\u001b[0m \u001b[0;34m-\u001b[0m \u001b[0mt_beg\u001b[0m\u001b[0;34m\u001b[0m\u001b[0m\n\u001b[1;32m     23\u001b[0m \u001b[0;34m\u001b[0m\u001b[0m\n\u001b[0;32m---> 24\u001b[0;31m \u001b[0mmain\u001b[0m\u001b[0;34m(\u001b[0m\u001b[0;34m'input.txt'\u001b[0m\u001b[0;34m)\u001b[0m\u001b[0;34m\u001b[0m\u001b[0m\n\u001b[0m",
      "\u001b[0;32m<ipython-input-7-9e5f4e9baed6>\u001b[0m in \u001b[0;36mmain\u001b[0;34m(InFilename)\u001b[0m\n\u001b[1;32m     13\u001b[0m             \u001b[0mprint\u001b[0m\u001b[0;34m(\u001b[0m\u001b[0mline\u001b[0m\u001b[0;34m[\u001b[0m\u001b[0;36m9\u001b[0m\u001b[0;34m:\u001b[0m\u001b[0mlen\u001b[0m\u001b[0;34m(\u001b[0m\u001b[0mline\u001b[0m\u001b[0;34m)\u001b[0m\u001b[0;34m-\u001b[0m\u001b[0;36m1\u001b[0m\u001b[0;34m]\u001b[0m\u001b[0;34m)\u001b[0m\u001b[0;34m\u001b[0m\u001b[0m\n\u001b[1;32m     14\u001b[0m             \u001b[0mtime_est\u001b[0m \u001b[0;34m=\u001b[0m \u001b[0mcalculateHits\u001b[0m\u001b[0;34m(\u001b[0m\u001b[0mInput\u001b[0m\u001b[0;34m[\u001b[0m\u001b[0;36m0\u001b[0m\u001b[0;34m]\u001b[0m\u001b[0;34m,\u001b[0m \u001b[0mInput\u001b[0m\u001b[0;34m[\u001b[0m\u001b[0;36m1\u001b[0m\u001b[0;34m]\u001b[0m\u001b[0;34m,\u001b[0m \u001b[0mInput\u001b[0m\u001b[0;34m[\u001b[0m\u001b[0;36m2\u001b[0m\u001b[0;34m]\u001b[0m\u001b[0;34m,\u001b[0m \u001b[0mline\u001b[0m\u001b[0;34m[\u001b[0m\u001b[0;36m9\u001b[0m\u001b[0;34m:\u001b[0m\u001b[0mlen\u001b[0m\u001b[0;34m(\u001b[0m\u001b[0mline\u001b[0m\u001b[0;34m)\u001b[0m\u001b[0;34m-\u001b[0m\u001b[0;36m1\u001b[0m\u001b[0;34m]\u001b[0m\u001b[0;34m,\u001b[0m \u001b[0;34m'Hits/hits'\u001b[0m \u001b[0;34m+\u001b[0m \u001b[0mline\u001b[0m\u001b[0;34m[\u001b[0m\u001b[0;36m9\u001b[0m\u001b[0;34m:\u001b[0m\u001b[0mlen\u001b[0m\u001b[0;34m(\u001b[0m\u001b[0mline\u001b[0m\u001b[0;34m)\u001b[0m\u001b[0;34m-\u001b[0m\u001b[0;36m1\u001b[0m\u001b[0;34m]\u001b[0m \u001b[0;34m+\u001b[0m \u001b[0;34m'.txt'\u001b[0m\u001b[0;34m)\u001b[0m\u001b[0;34m\u001b[0m\u001b[0m\n\u001b[0;32m---> 15\u001b[0;31m             \u001b[0mtime_est\u001b[0m \u001b[0;34m=\u001b[0m \u001b[0mhist\u001b[0m\u001b[0;34m(\u001b[0m\u001b[0mInFilename\u001b[0m\u001b[0;34m,\u001b[0m \u001b[0;34m'Hits/hits'\u001b[0m \u001b[0;34m+\u001b[0m \u001b[0mline\u001b[0m\u001b[0;34m[\u001b[0m\u001b[0;36m9\u001b[0m\u001b[0;34m:\u001b[0m\u001b[0mlen\u001b[0m\u001b[0;34m(\u001b[0m\u001b[0mline\u001b[0m\u001b[0;34m)\u001b[0m\u001b[0;34m-\u001b[0m\u001b[0;36m1\u001b[0m\u001b[0;34m]\u001b[0m \u001b[0;34m+\u001b[0m \u001b[0;34m'.txt'\u001b[0m\u001b[0;34m,\u001b[0m \u001b[0;34m'Histograms/histogram'\u001b[0m \u001b[0;34m+\u001b[0m \u001b[0mline\u001b[0m\u001b[0;34m[\u001b[0m\u001b[0;36m9\u001b[0m\u001b[0;34m:\u001b[0m\u001b[0mlen\u001b[0m\u001b[0;34m(\u001b[0m\u001b[0mline\u001b[0m\u001b[0;34m)\u001b[0m\u001b[0;34m-\u001b[0m\u001b[0;36m1\u001b[0m\u001b[0;34m]\u001b[0m \u001b[0;34m+\u001b[0m \u001b[0;34m'.png'\u001b[0m\u001b[0;34m)\u001b[0m\u001b[0;34m\u001b[0m\u001b[0m\n\u001b[0m\u001b[1;32m     16\u001b[0m         \u001b[0mline\u001b[0m \u001b[0;34m=\u001b[0m \u001b[0mfileID\u001b[0m\u001b[0;34m.\u001b[0m\u001b[0mreadline\u001b[0m\u001b[0;34m(\u001b[0m\u001b[0;34m)\u001b[0m\u001b[0;34m\u001b[0m\u001b[0m\n\u001b[1;32m     17\u001b[0m     \u001b[0mfileID\u001b[0m\u001b[0;34m.\u001b[0m\u001b[0mclose\u001b[0m\u001b[0;34m(\u001b[0m\u001b[0;34m)\u001b[0m\u001b[0;34m\u001b[0m\u001b[0m\n",
      "\u001b[0;32m<ipython-input-6-36413fb71e6d>\u001b[0m in \u001b[0;36mhist\u001b[0;34m(InFilename, HitsInFilename, PicFile)\u001b[0m\n\u001b[1;32m     54\u001b[0m         \u001b[0;32mfor\u001b[0m \u001b[0mj\u001b[0m \u001b[0;32min\u001b[0m \u001b[0mrange\u001b[0m\u001b[0;34m(\u001b[0m\u001b[0mlen\u001b[0m\u001b[0;34m(\u001b[0m\u001b[0mweakSites\u001b[0m\u001b[0;34m)\u001b[0m\u001b[0;34m)\u001b[0m\u001b[0;34m:\u001b[0m\u001b[0;34m\u001b[0m\u001b[0m\n\u001b[1;32m     55\u001b[0m             \u001b[0mvalue\u001b[0m \u001b[0;34m=\u001b[0m \u001b[0mabs\u001b[0m\u001b[0;34m(\u001b[0m\u001b[0mstrongSites\u001b[0m\u001b[0;34m[\u001b[0m\u001b[0mi\u001b[0m\u001b[0;34m]\u001b[0m \u001b[0;34m-\u001b[0m \u001b[0mweakSites\u001b[0m\u001b[0;34m[\u001b[0m\u001b[0mj\u001b[0m\u001b[0;34m]\u001b[0m\u001b[0;34m)\u001b[0m\u001b[0;34m\u001b[0m\u001b[0m\n\u001b[0;32m---> 56\u001b[0;31m             \u001b[0;32mfor\u001b[0m \u001b[0mk\u001b[0m \u001b[0;32min\u001b[0m \u001b[0mrange\u001b[0m\u001b[0;34m(\u001b[0m\u001b[0mr\u001b[0m\u001b[0;34m//\u001b[0m\u001b[0ms\u001b[0m\u001b[0;34m)\u001b[0m\u001b[0;34m:\u001b[0m\u001b[0;34m\u001b[0m\u001b[0m\n\u001b[0m\u001b[1;32m     57\u001b[0m                 \u001b[0;32mif\u001b[0m \u001b[0;34m(\u001b[0m\u001b[0mvalue\u001b[0m \u001b[0;34m<=\u001b[0m \u001b[0;34m(\u001b[0m\u001b[0ms\u001b[0m\u001b[0;34m*\u001b[0m\u001b[0mk\u001b[0m\u001b[0;34m)\u001b[0m \u001b[0;32mand\u001b[0m \u001b[0;34m(\u001b[0m\u001b[0mvalue\u001b[0m \u001b[0;34m>\u001b[0m \u001b[0ms\u001b[0m\u001b[0;34m*\u001b[0m\u001b[0;34m(\u001b[0m\u001b[0mk\u001b[0m\u001b[0;34m-\u001b[0m\u001b[0;36m1\u001b[0m\u001b[0;34m)\u001b[0m\u001b[0;34m)\u001b[0m\u001b[0;34m)\u001b[0m\u001b[0;34m:\u001b[0m\u001b[0;34m\u001b[0m\u001b[0m\n\u001b[1;32m     58\u001b[0m                     \u001b[0mcategories\u001b[0m\u001b[0;34m[\u001b[0m\u001b[0mk\u001b[0m\u001b[0;34m]\u001b[0m \u001b[0;34m+=\u001b[0m \u001b[0;36m1\u001b[0m\u001b[0;34m\u001b[0m\u001b[0m\n",
      "\u001b[0;31mKeyboardInterrupt\u001b[0m: "
     ]
    }
   ],
   "source": [
    "# Import the function that gets the time\n",
    "from time import time\n",
    "\n",
    "def main(InFilename):\n",
    "    # Get the time at the begining of the function\n",
    "    t_beg = time()\n",
    "    \n",
    "    Input = readInInput(InFilename)\n",
    "    fileID = open(Input[2])\n",
    "    line = fileID.readline()\n",
    "    while line:\n",
    "        if line[:6] == 'Source':\n",
    "            print(line[9:len(line)-1])\n",
    "            time_est = calculateHits(Input[0], Input[1], Input[2], line[9:len(line)-1], 'Hits/hits' + line[9:len(line)-1] + '.txt')\n",
    "            time_est = hist(InFilename, 'Hits/hits' + line[9:len(line)-1] + '.txt', 'Histograms/histogram' + line[9:len(line)-1] + '.png')\n",
    "        line = fileID.readline()\n",
    "    fileID.close()\n",
    "    \n",
    "    # Get the time at the end of the function\n",
    "    t_end = time()\n",
    "    # Return the amount of seconds it took the function to run (in seconds)\n",
    "    return t_end - t_beg\n",
    "    \n",
    "main('input.txt')"
   ]
  },
  {
   "cell_type": "code",
   "execution_count": null,
   "metadata": {
    "collapsed": true,
    "scrolled": true
   },
   "outputs": [],
   "source": [
    "B = [0, 0, 0, 1]\n",
    "B = list(set(B))\n",
    "print(B)"
   ]
  },
  {
   "cell_type": "code",
   "execution_count": null,
   "metadata": {
    "collapsed": true
   },
   "outputs": [],
   "source": []
  }
 ],
 "metadata": {
  "kernelspec": {
   "display_name": "Python 3",
   "language": "python",
   "name": "python3"
  },
  "language_info": {
   "codemirror_mode": {
    "name": "ipython",
    "version": 3
   },
   "file_extension": ".py",
   "mimetype": "text/x-python",
   "name": "python",
   "nbconvert_exporter": "python",
   "pygments_lexer": "ipython3",
   "version": "3.6.2"
  }
 },
 "nbformat": 4,
 "nbformat_minor": 2
}
